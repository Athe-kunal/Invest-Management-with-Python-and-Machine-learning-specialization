{
 "cells": [
  {
   "cell_type": "code",
   "execution_count": 1,
   "metadata": {},
   "outputs": [],
   "source": [
    "import numpy as np\n",
    "import pandas as pd\n",
    "\n",
    "import edhec_risk_kit_206 as erk\n",
    "\n",
    "%load_ext autoreload\n",
    "%autoreload 2"
   ]
  },
  {
   "cell_type": "code",
   "execution_count": 14,
   "metadata": {},
   "outputs": [],
   "source": [
    "inds = ['Food', 'Beer', 'Smoke', 'Games', 'Books', 'Hshld', 'Clths', 'Hlth',\n",
    "       'Chems', 'Txtls', 'Cnstr', 'Steel', 'FabPr', 'ElcEq', 'Autos', 'Carry',\n",
    "       'Mines', 'Coal', 'Oil', 'Util', 'Telcm', 'Servs', 'BusEq', 'Paper',\n",
    "       'Trans', 'Whlsl', 'Rtail', 'Meals', 'Fin', 'Other']\n",
    "inds=['Beer', 'Hlth', 'Fin','Rtail','Whlsl']\n",
    "ind_rets=erk.get_ind_returns(weighting=\"vw\", n_inds=49)[\"2014\":\"2018\"] \n",
    "ind_mktcap=erk.get_ind_market_caps(n_inds=49,weights=False)[\"2014\":\"2018\"]\n",
    "cov=ind_rets.cov() "
   ]
  },
  {
   "cell_type": "code",
   "execution_count": 6,
   "metadata": {},
   "outputs": [],
   "source": [
    "def risk_contribution(w,cov):\n",
    "    '''\n",
    "    Compute the contributions to risk of the constituents of the portfolio\n",
    "    '''\n",
    "    total_portfolio_var = erk.portfolio_vol(w,cov)**2 #variance, hence squaring\n",
    "    marginal_contrib = cov@w\n",
    "    risk_contrib = np.multiply(marginal_contrib,w.T)/total_portfolio_var\n",
    "    return risk_contrib"
   ]
  },
  {
   "cell_type": "code",
   "execution_count": 20,
   "metadata": {},
   "outputs": [
    {
     "data": {
      "text/plain": [
       "Banks    10.40\n",
       "Softw     9.84\n",
       "Drugs     8.91\n",
       "Oil       8.52\n",
       "Rtail     6.72\n",
       "dtype: float64"
      ]
     },
     "execution_count": 20,
     "metadata": {},
     "output_type": "execute_result"
    }
   ],
   "source": [
    "cw=erk.risk_contribution(erk.weight_cw(ind_rets,ind_mktcap),cov) \n",
    "cw = cw.sort_values(ascending=False)*100\n",
    "cw.head(5).round(2)"
   ]
  },
  {
   "cell_type": "code",
   "execution_count": 21,
   "metadata": {},
   "outputs": [
    {
     "data": {
      "text/plain": [
       "10.39"
      ]
     },
     "execution_count": 21,
     "metadata": {},
     "output_type": "execute_result"
    }
   ],
   "source": [
    "#Difference between largest and smallest risk \n",
    "(cw.values[0]-cw.values[-1]).round(2)\n"
   ]
  },
  {
   "cell_type": "code",
   "execution_count": 39,
   "metadata": {},
   "outputs": [
    {
     "data": {
      "text/plain": [
       "Steel    3.09\n",
       "Ships    3.00\n",
       "Coal     2.90\n",
       "Mines    2.86\n",
       "BldMt    2.81\n",
       "dtype: float64"
      ]
     },
     "execution_count": 39,
     "metadata": {},
     "output_type": "execute_result"
    }
   ],
   "source": [
    "ew = (erk.risk_contribution(erk.weight_ew(ind_rets),cov))\n",
    "ew = ew.sort_values(ascending=False)*100\n",
    "ew.head().round(2)"
   ]
  },
  {
   "cell_type": "code",
   "execution_count": 40,
   "metadata": {},
   "outputs": [
    {
     "data": {
      "text/plain": [
       "2.5"
      ]
     },
     "execution_count": 40,
     "metadata": {},
     "output_type": "execute_result"
    }
   ],
   "source": [
    "#Difference between largest and smallest risk\n",
    "\n",
    "(ew.values[0]-ew.values[-1]).round(2)\n"
   ]
  },
  {
   "cell_type": "code",
   "execution_count": 42,
   "metadata": {},
   "outputs": [],
   "source": [
    "from scipy.optimize import minimize\n",
    "\n",
    "def target_risk_contributions(target_risk,cov):\n",
    "    \"\"\"\n",
    "    Returns the weights of the portfolio that gives you the weights such\n",
    "    that the contributions to portfolio risk are as close as possible to\n",
    "    the target_risk, given the covariance matrix\n",
    "    \"\"\"\n",
    "    n = cov.shape[0]\n",
    "    init_guess = np.repeat(1/n,n)\n",
    "    bounds = ((0.0,1.0),)*n\n",
    "\n",
    "    weights_sum_to_1 = {\n",
    "        'type':'eq',\n",
    "        'fun':lambda weights:np.sum(weights)-1\n",
    "    }\n",
    "\n",
    "    def msd_risk(weights,target_risk,cov):\n",
    "        '''\n",
    "        Returns the mean squared difference between the risk contributions\n",
    "        between the weights and target risk\n",
    "        '''\n",
    "        w_contribs = risk_contribution(weights,cov)\n",
    "        #Difference in square difference for each stock\n",
    "        #and then take the sum\n",
    "        return ((w_contribs-target_risk)**2).sum()\n",
    "\n",
    "    weights = minimize(\n",
    "        msd_risk,init_guess,\n",
    "        args=(target_risk,cov),method='SLSQP',\n",
    "        options={'disp':False},\n",
    "        constraints=(weights_sum_to_1),\n",
    "        bounds=bounds\n",
    "    )\n",
    "    return weights.x\n",
    "\n",
    "def equal_risk_contributions(cov):\n",
    "    n = cov.shape[0]\n",
    "    #I want my risk contributions equally for all portfolio stocks\n",
    "    return target_risk_contributions(target_risk=np.repeat(1/n,n),cov=cov)\n",
    "\n",
    "def weight_erc(r,cov_estimator=erk.sample_cov,**kwargs):\n",
    "    est_cov = cov_estimator(r,**kwargs) #will just return sample covariance\n",
    "    # print(est_cov.columns)\n",
    "    return equal_risk_contributions(est_cov)"
   ]
  },
  {
   "cell_type": "code",
   "execution_count": 43,
   "metadata": {},
   "outputs": [
    {
     "data": {
      "text/plain": [
       "Hshld    2.05\n",
       "Beer     2.05\n",
       "Other    2.05\n",
       "RlEst    2.05\n",
       "Txtls    2.05\n",
       "dtype: float64"
      ]
     },
     "execution_count": 43,
     "metadata": {},
     "output_type": "execute_result"
    }
   ],
   "source": [
    "(risk_contribution(weight_erc(ind_rets,erk.sample_cov),cov).sort_values(ascending=False)*100).head().round(2)"
   ]
  },
  {
   "cell_type": "code",
   "execution_count": 44,
   "metadata": {},
   "outputs": [
    {
     "data": {
      "text/plain": [
       "Drugs    2.03\n",
       "Mines    2.03\n",
       "Ships    2.03\n",
       "Steel    2.03\n",
       "Util     2.02\n",
       "dtype: float64"
      ]
     },
     "execution_count": 44,
     "metadata": {},
     "output_type": "execute_result"
    }
   ],
   "source": [
    "(risk_contribution(weight_erc(ind_rets,erk.sample_cov),cov).sort_values(ascending=False)*100).tail().round(2)"
   ]
  },
  {
   "cell_type": "code",
   "execution_count": 48,
   "metadata": {},
   "outputs": [
    {
     "name": "stdout",
     "output_type": "stream",
     "text": [
      "5.22\n"
     ]
    },
    {
     "data": {
      "text/plain": [
       "'Util'"
      ]
     },
     "execution_count": 48,
     "metadata": {},
     "output_type": "execute_result"
    }
   ],
   "source": [
    "print((weight_erc(ind_rets,erk.sample_cov)*100).round(2).max())\n",
    "weights = weight_erc(ind_rets,erk.sample_cov).round(2)\n",
    "cov.columns[list(weights).index(weights.max())]"
   ]
  },
  {
   "cell_type": "code",
   "execution_count": 49,
   "metadata": {},
   "outputs": [
    {
     "name": "stdout",
     "output_type": "stream",
     "text": [
      "1.28\n"
     ]
    },
    {
     "data": {
      "text/plain": [
       "'Chems'"
      ]
     },
     "execution_count": 49,
     "metadata": {},
     "output_type": "execute_result"
    }
   ],
   "source": [
    "print((weight_erc(ind_rets,erk.sample_cov)*100).round(2).min())\n",
    "\n",
    "cov.columns[list(weights).index(weights.min())]"
   ]
  },
  {
   "cell_type": "code",
   "execution_count": null,
   "metadata": {},
   "outputs": [],
   "source": []
  }
 ],
 "metadata": {
  "kernelspec": {
   "display_name": "PyTorch",
   "language": "python",
   "name": "python3"
  },
  "language_info": {
   "codemirror_mode": {
    "name": "ipython",
    "version": 3
   },
   "file_extension": ".py",
   "mimetype": "text/x-python",
   "name": "python",
   "nbconvert_exporter": "python",
   "pygments_lexer": "ipython3",
   "version": "3.9.12"
  },
  "orig_nbformat": 4,
  "vscode": {
   "interpreter": {
    "hash": "3715ca10f576a2375282e255376934202de37df0f470497a97d1350df3f9ed2d"
   }
  }
 },
 "nbformat": 4,
 "nbformat_minor": 2
}
