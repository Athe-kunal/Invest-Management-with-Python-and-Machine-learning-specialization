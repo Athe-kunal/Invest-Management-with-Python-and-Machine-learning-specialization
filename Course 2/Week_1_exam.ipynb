{
 "cells": [
  {
   "cell_type": "code",
   "execution_count": 1,
   "metadata": {},
   "outputs": [],
   "source": [
    "import numpy as np\n",
    "import pandas as pd\n",
    "\n",
    "import edhec_risk_kit_204 as erk\n",
    "\n",
    "%load_ext autoreload\n",
    "%autoreload 2"
   ]
  },
  {
   "cell_type": "code",
   "execution_count": 2,
   "metadata": {},
   "outputs": [
    {
     "data": {
      "text/html": [
       "<div>\n",
       "<style scoped>\n",
       "    .dataframe tbody tr th:only-of-type {\n",
       "        vertical-align: middle;\n",
       "    }\n",
       "\n",
       "    .dataframe tbody tr th {\n",
       "        vertical-align: top;\n",
       "    }\n",
       "\n",
       "    .dataframe thead th {\n",
       "        text-align: right;\n",
       "    }\n",
       "</style>\n",
       "<table border=\"1\" class=\"dataframe\">\n",
       "  <thead>\n",
       "    <tr style=\"text-align: right;\">\n",
       "      <th></th>\n",
       "      <th>Agric</th>\n",
       "      <th>Food</th>\n",
       "      <th>Soda</th>\n",
       "      <th>Beer</th>\n",
       "      <th>Smoke</th>\n",
       "      <th>Toys</th>\n",
       "      <th>Fun</th>\n",
       "      <th>Books</th>\n",
       "      <th>Hshld</th>\n",
       "      <th>Clths</th>\n",
       "      <th>...</th>\n",
       "      <th>Boxes</th>\n",
       "      <th>Trans</th>\n",
       "      <th>Whlsl</th>\n",
       "      <th>Rtail</th>\n",
       "      <th>Meals</th>\n",
       "      <th>Banks</th>\n",
       "      <th>Insur</th>\n",
       "      <th>RlEst</th>\n",
       "      <th>Fin</th>\n",
       "      <th>Other</th>\n",
       "    </tr>\n",
       "  </thead>\n",
       "  <tbody>\n",
       "    <tr>\n",
       "      <th>2018-08</th>\n",
       "      <td>0.0715</td>\n",
       "      <td>0.0114</td>\n",
       "      <td>-0.0308</td>\n",
       "      <td>-0.0186</td>\n",
       "      <td>-0.0543</td>\n",
       "      <td>0.0738</td>\n",
       "      <td>0.0250</td>\n",
       "      <td>-0.0463</td>\n",
       "      <td>0.0254</td>\n",
       "      <td>0.0526</td>\n",
       "      <td>...</td>\n",
       "      <td>-0.0062</td>\n",
       "      <td>0.0291</td>\n",
       "      <td>0.0366</td>\n",
       "      <td>0.0911</td>\n",
       "      <td>0.0364</td>\n",
       "      <td>0.0277</td>\n",
       "      <td>0.0352</td>\n",
       "      <td>-0.0423</td>\n",
       "      <td>0.0004</td>\n",
       "      <td>0.0333</td>\n",
       "    </tr>\n",
       "    <tr>\n",
       "      <th>2018-09</th>\n",
       "      <td>-0.0392</td>\n",
       "      <td>-0.0220</td>\n",
       "      <td>0.0310</td>\n",
       "      <td>0.0019</td>\n",
       "      <td>0.0537</td>\n",
       "      <td>0.0717</td>\n",
       "      <td>-0.0075</td>\n",
       "      <td>-0.0209</td>\n",
       "      <td>0.0107</td>\n",
       "      <td>0.0130</td>\n",
       "      <td>...</td>\n",
       "      <td>0.0189</td>\n",
       "      <td>0.0105</td>\n",
       "      <td>-0.0148</td>\n",
       "      <td>0.0061</td>\n",
       "      <td>0.0251</td>\n",
       "      <td>-0.0282</td>\n",
       "      <td>0.0116</td>\n",
       "      <td>-0.0492</td>\n",
       "      <td>-0.0340</td>\n",
       "      <td>0.0068</td>\n",
       "    </tr>\n",
       "    <tr>\n",
       "      <th>2018-10</th>\n",
       "      <td>-0.0197</td>\n",
       "      <td>0.0095</td>\n",
       "      <td>0.0118</td>\n",
       "      <td>-0.0157</td>\n",
       "      <td>0.0790</td>\n",
       "      <td>-0.1504</td>\n",
       "      <td>-0.1605</td>\n",
       "      <td>-0.0569</td>\n",
       "      <td>-0.0051</td>\n",
       "      <td>-0.1014</td>\n",
       "      <td>...</td>\n",
       "      <td>-0.1100</td>\n",
       "      <td>-0.0975</td>\n",
       "      <td>-0.0788</td>\n",
       "      <td>-0.1021</td>\n",
       "      <td>-0.0171</td>\n",
       "      <td>-0.0613</td>\n",
       "      <td>-0.0413</td>\n",
       "      <td>-0.1213</td>\n",
       "      <td>-0.0455</td>\n",
       "      <td>-0.0515</td>\n",
       "    </tr>\n",
       "    <tr>\n",
       "      <th>2018-11</th>\n",
       "      <td>-0.0357</td>\n",
       "      <td>0.0029</td>\n",
       "      <td>0.0684</td>\n",
       "      <td>0.0579</td>\n",
       "      <td>-0.0843</td>\n",
       "      <td>-0.0715</td>\n",
       "      <td>-0.0001</td>\n",
       "      <td>0.0375</td>\n",
       "      <td>0.0644</td>\n",
       "      <td>-0.0099</td>\n",
       "      <td>...</td>\n",
       "      <td>0.1021</td>\n",
       "      <td>0.0617</td>\n",
       "      <td>0.0318</td>\n",
       "      <td>0.0159</td>\n",
       "      <td>0.0616</td>\n",
       "      <td>0.0292</td>\n",
       "      <td>0.0432</td>\n",
       "      <td>0.0715</td>\n",
       "      <td>0.0006</td>\n",
       "      <td>0.0355</td>\n",
       "    </tr>\n",
       "    <tr>\n",
       "      <th>2018-12</th>\n",
       "      <td>-0.1093</td>\n",
       "      <td>-0.1093</td>\n",
       "      <td>-0.0783</td>\n",
       "      <td>-0.0969</td>\n",
       "      <td>-0.1580</td>\n",
       "      <td>-0.1635</td>\n",
       "      <td>-0.0750</td>\n",
       "      <td>-0.1442</td>\n",
       "      <td>-0.0557</td>\n",
       "      <td>-0.0728</td>\n",
       "      <td>...</td>\n",
       "      <td>-0.1248</td>\n",
       "      <td>-0.1519</td>\n",
       "      <td>-0.1121</td>\n",
       "      <td>-0.0919</td>\n",
       "      <td>-0.0628</td>\n",
       "      <td>-0.1279</td>\n",
       "      <td>-0.0985</td>\n",
       "      <td>-0.1172</td>\n",
       "      <td>-0.0874</td>\n",
       "      <td>-0.0654</td>\n",
       "    </tr>\n",
       "  </tbody>\n",
       "</table>\n",
       "<p>5 rows × 49 columns</p>\n",
       "</div>"
      ],
      "text/plain": [
       "          Agric    Food    Soda    Beer   Smoke    Toys     Fun   Books  \\\n",
       "2018-08  0.0715  0.0114 -0.0308 -0.0186 -0.0543  0.0738  0.0250 -0.0463   \n",
       "2018-09 -0.0392 -0.0220  0.0310  0.0019  0.0537  0.0717 -0.0075 -0.0209   \n",
       "2018-10 -0.0197  0.0095  0.0118 -0.0157  0.0790 -0.1504 -0.1605 -0.0569   \n",
       "2018-11 -0.0357  0.0029  0.0684  0.0579 -0.0843 -0.0715 -0.0001  0.0375   \n",
       "2018-12 -0.1093 -0.1093 -0.0783 -0.0969 -0.1580 -0.1635 -0.0750 -0.1442   \n",
       "\n",
       "          Hshld   Clths  ...   Boxes   Trans   Whlsl   Rtail   Meals   Banks  \\\n",
       "2018-08  0.0254  0.0526  ... -0.0062  0.0291  0.0366  0.0911  0.0364  0.0277   \n",
       "2018-09  0.0107  0.0130  ...  0.0189  0.0105 -0.0148  0.0061  0.0251 -0.0282   \n",
       "2018-10 -0.0051 -0.1014  ... -0.1100 -0.0975 -0.0788 -0.1021 -0.0171 -0.0613   \n",
       "2018-11  0.0644 -0.0099  ...  0.1021  0.0617  0.0318  0.0159  0.0616  0.0292   \n",
       "2018-12 -0.0557 -0.0728  ... -0.1248 -0.1519 -0.1121 -0.0919 -0.0628 -0.1279   \n",
       "\n",
       "          Insur   RlEst     Fin   Other  \n",
       "2018-08  0.0352 -0.0423  0.0004  0.0333  \n",
       "2018-09  0.0116 -0.0492 -0.0340  0.0068  \n",
       "2018-10 -0.0413 -0.1213 -0.0455 -0.0515  \n",
       "2018-11  0.0432  0.0715  0.0006  0.0355  \n",
       "2018-12 -0.0985 -0.1172 -0.0874 -0.0654  \n",
       "\n",
       "[5 rows x 49 columns]"
      ]
     },
     "execution_count": 2,
     "metadata": {},
     "output_type": "execute_result"
    }
   ],
   "source": [
    "ind49_rets_full = erk.get_ind_returns(weighting=\"vw\", n_inds=49)\n",
    "ind49_rets = ind49_rets_full[\"1991\":]\n",
    "ind49_rets.tail()"
   ]
  },
  {
   "cell_type": "code",
   "execution_count": 3,
   "metadata": {},
   "outputs": [
    {
     "data": {
      "text/html": [
       "<div>\n",
       "<style scoped>\n",
       "    .dataframe tbody tr th:only-of-type {\n",
       "        vertical-align: middle;\n",
       "    }\n",
       "\n",
       "    .dataframe tbody tr th {\n",
       "        vertical-align: top;\n",
       "    }\n",
       "\n",
       "    .dataframe thead th {\n",
       "        text-align: right;\n",
       "    }\n",
       "</style>\n",
       "<table border=\"1\" class=\"dataframe\">\n",
       "  <thead>\n",
       "    <tr style=\"text-align: right;\">\n",
       "      <th></th>\n",
       "      <th>Mkt-RF</th>\n",
       "      <th>SMB</th>\n",
       "      <th>HML</th>\n",
       "      <th>RF</th>\n",
       "    </tr>\n",
       "  </thead>\n",
       "  <tbody>\n",
       "    <tr>\n",
       "      <th>2018-08</th>\n",
       "      <td>0.0344</td>\n",
       "      <td>0.0123</td>\n",
       "      <td>-0.0412</td>\n",
       "      <td>0.0016</td>\n",
       "    </tr>\n",
       "    <tr>\n",
       "      <th>2018-09</th>\n",
       "      <td>0.0006</td>\n",
       "      <td>-0.0237</td>\n",
       "      <td>-0.0134</td>\n",
       "      <td>0.0015</td>\n",
       "    </tr>\n",
       "    <tr>\n",
       "      <th>2018-10</th>\n",
       "      <td>-0.0768</td>\n",
       "      <td>-0.0468</td>\n",
       "      <td>0.0341</td>\n",
       "      <td>0.0019</td>\n",
       "    </tr>\n",
       "    <tr>\n",
       "      <th>2018-11</th>\n",
       "      <td>0.0169</td>\n",
       "      <td>-0.0074</td>\n",
       "      <td>0.0020</td>\n",
       "      <td>0.0018</td>\n",
       "    </tr>\n",
       "    <tr>\n",
       "      <th>2018-12</th>\n",
       "      <td>-0.0955</td>\n",
       "      <td>-0.0261</td>\n",
       "      <td>-0.0151</td>\n",
       "      <td>0.0019</td>\n",
       "    </tr>\n",
       "  </tbody>\n",
       "</table>\n",
       "</div>"
      ],
      "text/plain": [
       "         Mkt-RF     SMB     HML      RF\n",
       "2018-08  0.0344  0.0123 -0.0412  0.0016\n",
       "2018-09  0.0006 -0.0237 -0.0134  0.0015\n",
       "2018-10 -0.0768 -0.0468  0.0341  0.0019\n",
       "2018-11  0.0169 -0.0074  0.0020  0.0018\n",
       "2018-12 -0.0955 -0.0261 -0.0151  0.0019"
      ]
     },
     "execution_count": 3,
     "metadata": {},
     "output_type": "execute_result"
    }
   ],
   "source": [
    "fff = erk.get_fff_returns()\n",
    "fff = fff['1991':'2018']\n",
    "fff.tail()"
   ]
  },
  {
   "cell_type": "code",
   "execution_count": 11,
   "metadata": {},
   "outputs": [
    {
     "data": {
      "text/html": [
       "<div>\n",
       "<style scoped>\n",
       "    .dataframe tbody tr th:only-of-type {\n",
       "        vertical-align: middle;\n",
       "    }\n",
       "\n",
       "    .dataframe tbody tr th {\n",
       "        vertical-align: top;\n",
       "    }\n",
       "\n",
       "    .dataframe thead th {\n",
       "        text-align: right;\n",
       "    }\n",
       "</style>\n",
       "<table border=\"1\" class=\"dataframe\">\n",
       "  <thead>\n",
       "    <tr style=\"text-align: right;\">\n",
       "      <th></th>\n",
       "      <th>Mkt-RF</th>\n",
       "      <th>Constant</th>\n",
       "    </tr>\n",
       "  </thead>\n",
       "  <tbody>\n",
       "    <tr>\n",
       "      <th>2018-08</th>\n",
       "      <td>0.0344</td>\n",
       "      <td>1</td>\n",
       "    </tr>\n",
       "    <tr>\n",
       "      <th>2018-09</th>\n",
       "      <td>0.0006</td>\n",
       "      <td>1</td>\n",
       "    </tr>\n",
       "    <tr>\n",
       "      <th>2018-10</th>\n",
       "      <td>-0.0768</td>\n",
       "      <td>1</td>\n",
       "    </tr>\n",
       "    <tr>\n",
       "      <th>2018-11</th>\n",
       "      <td>0.0169</td>\n",
       "      <td>1</td>\n",
       "    </tr>\n",
       "    <tr>\n",
       "      <th>2018-12</th>\n",
       "      <td>-0.0955</td>\n",
       "      <td>1</td>\n",
       "    </tr>\n",
       "  </tbody>\n",
       "</table>\n",
       "</div>"
      ],
      "text/plain": [
       "         Mkt-RF  Constant\n",
       "2018-08  0.0344         1\n",
       "2018-09  0.0006         1\n",
       "2018-10 -0.0768         1\n",
       "2018-11  0.0169         1\n",
       "2018-12 -0.0955         1"
      ]
     },
     "execution_count": 11,
     "metadata": {},
     "output_type": "execute_result"
    }
   ],
   "source": [
    "stock = ['Beer']\n",
    "rets = ind49_rets[stock]\n",
    "rets_excess = rets - fff[[\"RF\"]].values\n",
    "exp_var = pd.DataFrame()\n",
    "exp_var['Mkt-RF'] = fff[['Mkt-RF']]\n",
    "exp_var[\"Constant\"] = 1\n",
    "# exp_var['SMB'] = fff['SMB']\n",
    "# exp_var['HML'] = fff['HML']\n",
    "exp_var.tail()"
   ]
  },
  {
   "cell_type": "code",
   "execution_count": 13,
   "metadata": {},
   "outputs": [
    {
     "data": {
      "text/plain": [
       "array([0.53, 0.  ])"
      ]
     },
     "execution_count": 13,
     "metadata": {},
     "output_type": "execute_result"
    }
   ],
   "source": [
    "import statsmodels.api as sm\n",
    "lm_beer = sm.OLS(rets_excess,exp_var).fit()\n",
    "lm_beer.params.values.round(2)"
   ]
  },
  {
   "cell_type": "code",
   "execution_count": 15,
   "metadata": {},
   "outputs": [
    {
     "data": {
      "text/plain": [
       "Mkt-RF      1.55\n",
       "Constant   -0.01\n",
       "dtype: float64"
      ]
     },
     "execution_count": 15,
     "metadata": {},
     "output_type": "execute_result"
    }
   ],
   "source": [
    "stock = ['Steel']\n",
    "rets = ind49_rets[stock]\n",
    "ind49_excesss_ret = rets-fff[['RF']].values\n",
    "exp_var = pd.DataFrame()\n",
    "exp_var['Mkt-RF'] = fff[['Mkt-RF']]\n",
    "exp_var[\"Constant\"] = 1\n",
    "# exp_var['SMB'] = fff['SMB']\n",
    "# exp_var['HML'] = fff['HML']\n",
    "exp_var.head()\n",
    "\n",
    "lm = sm.OLS(ind49_excesss_ret,exp_var).fit()\n",
    "lm.params.round(2)"
   ]
  },
  {
   "cell_type": "code",
   "execution_count": 17,
   "metadata": {},
   "outputs": [
    {
     "data": {
      "text/plain": [
       "Mkt-RF      0.59\n",
       "Constant    0.00\n",
       "dtype: float64"
      ]
     },
     "execution_count": 17,
     "metadata": {},
     "output_type": "execute_result"
    }
   ],
   "source": [
    "fff = erk.get_fff_returns()\n",
    "fff = fff['2013':'2018']\n",
    "\n",
    "stock = ['Beer']\n",
    "rets = ind49_rets_full['2013':'2018'][stock]\n",
    "ind49_excesss_ret = rets-fff[['RF']].values\n",
    "exp_var = pd.DataFrame()\n",
    "exp_var['Mkt-RF'] = fff[['Mkt-RF']]\n",
    "exp_var[\"Constant\"] = 1\n",
    "# exp_var['SMB'] = fff['SMB']\n",
    "# exp_var['HML'] = fff['HML']\n",
    "exp_var.head()\n",
    "\n",
    "lm = sm.OLS(ind49_excesss_ret,exp_var).fit()\n",
    "lm.params.round(2)"
   ]
  },
  {
   "cell_type": "code",
   "execution_count": 18,
   "metadata": {},
   "outputs": [
    {
     "data": {
      "text/plain": [
       "Mkt-RF      1.42\n",
       "Constant   -0.01\n",
       "dtype: float64"
      ]
     },
     "execution_count": 18,
     "metadata": {},
     "output_type": "execute_result"
    }
   ],
   "source": [
    "fff = erk.get_fff_returns()\n",
    "fff = fff['2013':'2018']\n",
    "\n",
    "stock = ['Steel']\n",
    "rets = ind49_rets_full['2013':'2018'][stock]\n",
    "ind49_excesss_ret = rets-fff[['RF']].values\n",
    "exp_var = pd.DataFrame()\n",
    "exp_var['Mkt-RF'] = fff[['Mkt-RF']]\n",
    "exp_var[\"Constant\"] = 1\n",
    "# exp_var['SMB'] = fff['SMB']\n",
    "# exp_var['HML'] = fff['HML']\n",
    "exp_var.head()\n",
    "\n",
    "lm = sm.OLS(ind49_excesss_ret,exp_var).fit()\n",
    "lm.params.round(2)"
   ]
  },
  {
   "cell_type": "code",
   "execution_count": 22,
   "metadata": {},
   "outputs": [],
   "source": [
    "def get_params(stock,start:str,end:str):\n",
    "    fff = erk.get_fff_returns()\n",
    "    fff = fff[start:end]\n",
    "    rets = ind49_rets_full[start:end][stock]\n",
    "    ind49_excesss_ret = rets.values-fff[['RF']].values\n",
    "    exp_var = pd.DataFrame(columns=['Mkt-RF'])\n",
    "    # print(ind49_excesss_ret)\n",
    "    exp_var['Mkt-RF'] = fff[['Mkt-RF']]\n",
    "    exp_var[\"Constant\"] = 1\n",
    "    # exp_var['SMB'] = fff['SMB']\n",
    "    # exp_var['HML'] = fff['HML']\n",
    "    lm = sm.OLS(ind49_excesss_ret,exp_var).fit()\n",
    "    return lm.params.values[0]"
   ]
  },
  {
   "cell_type": "code",
   "execution_count": 23,
   "metadata": {},
   "outputs": [],
   "source": [
    "val = {}\n",
    "for col in ind49_rets_full.columns:\n",
    "    val.update({col:get_params([col],'1991','1993')})"
   ]
  },
  {
   "cell_type": "code",
   "execution_count": 24,
   "metadata": {},
   "outputs": [
    {
     "data": {
      "text/plain": [
       "{'Gold': -0.5532887150791107,\n",
       " 'Mines': 0.2747615592764884,\n",
       " 'Util': 0.37952741311005195,\n",
       " 'Coal': 0.5299575583256859,\n",
       " 'Oil': 0.5506038162933442,\n",
       " 'Guns': 0.5616993413988568,\n",
       " 'RlEst': 0.5992480571066945,\n",
       " 'Boxes': 0.63381688873947,\n",
       " 'Telcm': 0.715867241391818,\n",
       " 'Paper': 0.7172023055320834,\n",
       " 'Autos': 0.747721110378613,\n",
       " 'Aero': 0.7934918670395716,\n",
       " 'Chems': 0.8884341258014387,\n",
       " 'Insur': 0.9360935464460169,\n",
       " 'Steel': 0.9462051336916986,\n",
       " 'PerSv': 0.9720243363027057,\n",
       " 'Books': 0.9868289248059063,\n",
       " 'Hshld': 1.0141781818331543,\n",
       " 'Hardw': 1.0220695856801387,\n",
       " 'Agric': 1.0283814931320743,\n",
       " 'BusSv': 1.0285048856713874,\n",
       " 'Fun': 1.028674223631854,\n",
       " 'Whlsl': 1.0321154899268747,\n",
       " 'Toys': 1.0575959185826223,\n",
       " 'Mach': 1.0900680247122314,\n",
       " 'Fin': 1.0915408270816296,\n",
       " 'Txtls': 1.1306683202661196,\n",
       " 'Meals': 1.145342882573895,\n",
       " 'Trans': 1.1683752306992794,\n",
       " 'Rubbr': 1.1694505038735648,\n",
       " 'BldMt': 1.1717739827745843,\n",
       " 'Beer': 1.1980778670972156,\n",
       " 'Ships': 1.2097026468549312,\n",
       " 'ElcEq': 1.217794171440993,\n",
       " 'Rtail': 1.2273977121271662,\n",
       " 'FabPr': 1.2452483578760087,\n",
       " 'Drugs': 1.2487316482191113,\n",
       " 'LabEq': 1.2530216303592179,\n",
       " 'Food': 1.262609093415799,\n",
       " 'Chips': 1.2728628957915364,\n",
       " 'Soda': 1.3190354951579861,\n",
       " 'Smoke': 1.3237761410983226,\n",
       " 'Banks': 1.359233229087987,\n",
       " 'Other': 1.4548260109642894,\n",
       " 'MedEq': 1.4739253526115002,\n",
       " 'Clths': 1.5169272931029645,\n",
       " 'Cnstr': 1.5208822919484468,\n",
       " 'Softw': 1.6083400219975954,\n",
       " 'Hlth': 1.6151954971134441}"
      ]
     },
     "execution_count": 24,
     "metadata": {},
     "output_type": "execute_result"
    }
   ],
   "source": [
    "dict(sorted(val.items(), key=lambda item: item[1]))"
   ]
  },
  {
   "attachments": {},
   "cell_type": "markdown",
   "metadata": {},
   "source": [
    "##  QUESTION 7"
   ]
  },
  {
   "cell_type": "code",
   "execution_count": 31,
   "metadata": {},
   "outputs": [],
   "source": [
    "def get_params_all(stock,start:str,end:str):\n",
    "    fff = erk.get_fff_returns()\n",
    "    fff = fff[start:end]\n",
    "    rets = ind49_rets_full[start:end][stock]\n",
    "    ind49_excesss_ret = rets.values-fff[['RF']].values\n",
    "    exp_var = pd.DataFrame(columns=['Mkt-RF'])\n",
    "    # print(ind49_excesss_ret)\n",
    "    exp_var['Mkt-RF'] = fff[['Mkt-RF']]\n",
    "    # print(exp_var.head())\n",
    "    exp_var['SMB'] = fff[['SMB']]\n",
    "    exp_var['HML'] = fff[['HML']]\n",
    "    lm = sm.OLS(rets,exp_var).fit()\n",
    "    return lm.params.values[1]"
   ]
  },
  {
   "cell_type": "code",
   "execution_count": 34,
   "metadata": {},
   "outputs": [],
   "source": [
    "val = {}\n",
    "for col in ind49_rets_full.columns:\n",
    "    val.update({col:get_params_all(col,'1991','2018')})"
   ]
  },
  {
   "cell_type": "code",
   "execution_count": 35,
   "metadata": {},
   "outputs": [
    {
     "data": {
      "text/plain": [
       "{'Beer': -0.35113890660868485,\n",
       " 'Drugs': -0.31252275858600465,\n",
       " 'Smoke': -0.2999600274080614,\n",
       " 'Food': -0.2631970556086306,\n",
       " 'Insur': -0.24956686379190218,\n",
       " 'Telcm': -0.194253689487335,\n",
       " 'Banks': -0.18842673070013094,\n",
       " 'Util': -0.17178042946041142,\n",
       " 'Hshld': -0.16660358419061766,\n",
       " 'Aero': -0.13678484607575758,\n",
       " 'Soda': -0.11570540240601342,\n",
       " 'Meals': -0.08889623442283025,\n",
       " 'Rtail': -0.03645095543619203,\n",
       " 'Paper': -0.02996531317121,\n",
       " 'Other': -0.027172953103930055,\n",
       " 'Chems': -0.023815087608580556,\n",
       " 'ElcEq': -0.021921515359164326,\n",
       " 'Oil': -0.014404092496764435,\n",
       " 'Boxes': -6.105842000799985e-05,\n",
       " 'Guns': 0.0014300503339921,\n",
       " 'Trans': 0.032272412580021684,\n",
       " 'Clths': 0.060131507137082665,\n",
       " 'Softw': 0.07409429897318055,\n",
       " 'Fin': 0.12339497159855847,\n",
       " 'MedEq': 0.13152437769174527,\n",
       " 'Books': 0.13298963650706225,\n",
       " 'Ships': 0.1703574911624965,\n",
       " 'Agric': 0.1710416838958754,\n",
       " 'BldMt': 0.19313682135833504,\n",
       " 'Autos': 0.20026150723127234,\n",
       " 'Hardw': 0.20096307267260044,\n",
       " 'BusSv': 0.20137857235046927,\n",
       " 'Hlth': 0.23468060273825928,\n",
       " 'Whlsl': 0.26519161635965116,\n",
       " 'Mines': 0.26712793902821486,\n",
       " 'PerSv': 0.2715021036582681,\n",
       " 'Fun': 0.28299573963475305,\n",
       " 'Gold': 0.2914229425762188,\n",
       " 'Chips': 0.32386534832531644,\n",
       " 'Toys': 0.3264741958133703,\n",
       " 'Mach': 0.35246491999640017,\n",
       " 'Cnstr': 0.40574027138508006,\n",
       " 'Rubbr': 0.4491220759571085,\n",
       " 'LabEq': 0.4678840695480274,\n",
       " 'Steel': 0.48487687561750664,\n",
       " 'Txtls': 0.5298247722538407,\n",
       " 'Coal': 0.5338668142648926,\n",
       " 'RlEst': 0.6791730706370018,\n",
       " 'FabPr': 0.6835100149336475}"
      ]
     },
     "execution_count": 35,
     "metadata": {},
     "output_type": "execute_result"
    }
   ],
   "source": [
    "dict(sorted(val.items(), key=lambda item: item[1]))"
   ]
  },
  {
   "attachments": {},
   "cell_type": "markdown",
   "metadata": {},
   "source": [
    "## QUESTION 9"
   ]
  },
  {
   "cell_type": "code",
   "execution_count": 40,
   "metadata": {},
   "outputs": [],
   "source": [
    "def get_params_value(stock,start:str,end:str):\n",
    "    fff = erk.get_fff_returns()\n",
    "    fff = fff[start:end]\n",
    "    rets = ind49_rets_full[start:end][stock]\n",
    "    ind49_excesss_ret = rets.values-fff[['RF']].values\n",
    "    exp_var = pd.DataFrame(columns=['Mkt-RF'])\n",
    "    # print(ind49_excesss_ret)\n",
    "    exp_var['Mkt-RF'] = fff[['Mkt-RF']]\n",
    "    # print(exp_var.head())\n",
    "    exp_var['SMB'] = fff[['SMB']]\n",
    "    exp_var['HML'] = fff[['HML']]\n",
    "    lm = sm.OLS(rets,exp_var).fit()\n",
    "    return lm.params[2]\n",
    "val = {}\n",
    "for col in ind49_rets_full.columns:\n",
    "    val.update({col:get_params_value(col,'1991','2018')})"
   ]
  },
  {
   "cell_type": "code",
   "execution_count": 41,
   "metadata": {},
   "outputs": [
    {
     "data": {
      "text/plain": [
       "{'Softw': -0.8237685271476805,\n",
       " 'Hardw': -0.67387054796249,\n",
       " 'Chips': -0.5817727255996059,\n",
       " 'LabEq': -0.24583282957127095,\n",
       " 'Drugs': -0.20208697246348659,\n",
       " 'Telcm': -0.04261746127160723,\n",
       " 'MedEq': -0.022393268697517617,\n",
       " 'BusSv': -0.013003720916928058,\n",
       " 'Beer': 0.033773572367515665,\n",
       " 'Rtail': 0.04186577252307833,\n",
       " 'Gold': 0.1376504395795181,\n",
       " 'Hshld': 0.14572337658805667,\n",
       " 'ElcEq': 0.14587017928785492,\n",
       " 'Agric': 0.15344140765772005,\n",
       " 'Food': 0.1767915679708408,\n",
       " 'Fin': 0.2514958164476716,\n",
       " 'Other': 0.27163178818944084,\n",
       " 'Meals': 0.2828173033107739,\n",
       " 'Boxes': 0.293091064105114,\n",
       " 'Whlsl': 0.2942318905376833,\n",
       " 'Smoke': 0.2942672526037858,\n",
       " 'Steel': 0.3051448364052658,\n",
       " 'Mach': 0.30779531895597567,\n",
       " 'Util': 0.3157560096314416,\n",
       " 'Fun': 0.3221147569239574,\n",
       " 'Clths': 0.36068835762684515,\n",
       " 'PerSv': 0.3608725013910947,\n",
       " 'Soda': 0.4209495542689664,\n",
       " 'Toys': 0.42360453685576827,\n",
       " 'Oil': 0.43268554560893685,\n",
       " 'Books': 0.4341194637257486,\n",
       " 'Trans': 0.4438338153645835,\n",
       " 'Aero': 0.4503982611781769,\n",
       " 'Chems': 0.4685377115990562,\n",
       " 'Paper': 0.47408077320989306,\n",
       " 'Rubbr': 0.47739181616126425,\n",
       " 'FabPr': 0.48668418202903774,\n",
       " 'Hlth': 0.49667265903491115,\n",
       " 'Coal': 0.5049591558558345,\n",
       " 'Mines': 0.5722245873214074,\n",
       " 'Insur': 0.5840594069266369,\n",
       " 'Cnstr': 0.6081865650760125,\n",
       " 'BldMt': 0.6123166489324459,\n",
       " 'Guns': 0.621096808302018,\n",
       " 'Ships': 0.7897190942207291,\n",
       " 'Autos': 0.7902653123599155,\n",
       " 'Banks': 0.8467186442095606,\n",
       " 'RlEst': 0.8843826968798008,\n",
       " 'Txtls': 0.9764463467178162}"
      ]
     },
     "execution_count": 41,
     "metadata": {},
     "output_type": "execute_result"
    }
   ],
   "source": [
    "dict(sorted(val.items(), key=lambda item: item[1]))"
   ]
  },
  {
   "cell_type": "code",
   "execution_count": null,
   "metadata": {},
   "outputs": [],
   "source": []
  }
 ],
 "metadata": {
  "kernelspec": {
   "display_name": "PyTorch",
   "language": "python",
   "name": "python3"
  },
  "language_info": {
   "codemirror_mode": {
    "name": "ipython",
    "version": 3
   },
   "file_extension": ".py",
   "mimetype": "text/x-python",
   "name": "python",
   "nbconvert_exporter": "python",
   "pygments_lexer": "ipython3",
   "version": "3.9.12"
  },
  "orig_nbformat": 4,
  "vscode": {
   "interpreter": {
    "hash": "3715ca10f576a2375282e255376934202de37df0f470497a97d1350df3f9ed2d"
   }
  }
 },
 "nbformat": 4,
 "nbformat_minor": 2
}
